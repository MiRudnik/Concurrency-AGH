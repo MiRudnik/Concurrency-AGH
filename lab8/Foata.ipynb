{
 "cells": [
  {
   "cell_type": "code",
   "execution_count": 80,
   "metadata": {},
   "outputs": [],
   "source": [
    "#transactions = ['a','b','c','d']\n",
    "transactions = ['a','b','c','d','e','f']"
   ]
  },
  {
   "cell_type": "code",
   "execution_count": 81,
   "metadata": {},
   "outputs": [],
   "source": [
    "#I_list = (['a','d'],['d','a'],['b','c'],['c','b'])\n",
    "I_list = (['a','d'],['d','a'],['b','e'],['e','b'],['c','d'],['d','c'],['c','f'],['f','c'])"
   ]
  },
  {
   "cell_type": "code",
   "execution_count": 82,
   "metadata": {},
   "outputs": [],
   "source": [
    "#word = 'baadcb'\n",
    "word = 'acdcfbbe'"
   ]
  },
  {
   "cell_type": "code",
   "execution_count": 83,
   "metadata": {},
   "outputs": [
    {
     "name": "stdout",
     "output_type": "stream",
     "text": [
      "{'a': ['b', 'c', 'e', 'f'], 'b': ['a', 'c', 'd', 'f'], 'c': ['a', 'b', 'e'], 'd': ['b', 'e', 'f'], 'e': ['a', 'c', 'd', 'f'], 'f': ['a', 'b', 'd', 'e']}\n"
     ]
    }
   ],
   "source": [
    "# reversing the I_list and putting into a dictionary\n",
    "tmp_list = [[x for x in transactions] for x in transactions]\n",
    "for i in range(len(tmp_list)):\n",
    "    tmp_list[i].pop(i)\n",
    "    for el in I_list:\n",
    "        if el[0] == transactions[i]:\n",
    "            tmp_list[i].remove(el[1])\n",
    "marking_dict = {transactions[i] : tmp_list[i] for i in range(len(transactions))}\n",
    "print(marking_dict)"
   ]
  },
  {
   "cell_type": "code",
   "execution_count": 84,
   "metadata": {},
   "outputs": [],
   "source": [
    "# constructing a stack\n",
    "stack_list = [ [] for x in range(len(transactions))]\n",
    "\n",
    "for l in reversed(list(word)):\n",
    "    index = transactions.index(l)\n",
    "    stack_list[index].append(l)\n",
    "    for i in marking_dict[l]:\n",
    "        index = transactions.index(i)\n",
    "        stack_list[index].append('*')"
   ]
  },
  {
   "cell_type": "code",
   "execution_count": 85,
   "metadata": {},
   "outputs": [
    {
     "data": {
      "text/plain": [
       "[['*', '*', '*', '*', '*', '*', 'a'],\n",
       " ['b', 'b', '*', '*', '*', '*', '*'],\n",
       " ['*', '*', '*', 'c', 'c', '*'],\n",
       " ['*', '*', '*', '*', 'd'],\n",
       " ['e', '*', '*', '*', '*', '*'],\n",
       " ['*', '*', '*', 'f', '*', '*']]"
      ]
     },
     "execution_count": 85,
     "metadata": {},
     "output_type": "execute_result"
    }
   ],
   "source": [
    "stack_list"
   ]
  },
  {
   "cell_type": "code",
   "execution_count": 86,
   "metadata": {},
   "outputs": [
    {
     "name": "stdout",
     "output_type": "stream",
     "text": [
      "(ad)(cf)(c)(be)(b)"
     ]
    }
   ],
   "source": [
    "while any(stack_list):\n",
    "    parenthesis = []\n",
    "    for stack in stack_list:\n",
    "        if stack:\n",
    "            if stack[-1] != '*':\n",
    "                parenthesis.append(stack[-1])\n",
    "                stack.pop()\n",
    "    str = '('\n",
    "    for el in parenthesis:\n",
    "        str = str + el\n",
    "        for i in marking_dict[el]:\n",
    "            index = transactions.index(i)\n",
    "            stack_list[index].pop()\n",
    "    str = str + ')'\n",
    "    print(str, end='')"
   ]
  },
  {
   "cell_type": "code",
   "execution_count": null,
   "metadata": {},
   "outputs": [],
   "source": []
  },
  {
   "cell_type": "code",
   "execution_count": null,
   "metadata": {},
   "outputs": [],
   "source": []
  }
 ],
 "metadata": {
  "kernelspec": {
   "display_name": "Python 3",
   "language": "python",
   "name": "python3"
  },
  "language_info": {
   "codemirror_mode": {
    "name": "ipython",
    "version": 3
   },
   "file_extension": ".py",
   "mimetype": "text/x-python",
   "name": "python",
   "nbconvert_exporter": "python",
   "pygments_lexer": "ipython3",
   "version": "3.6.5"
  }
 },
 "nbformat": 4,
 "nbformat_minor": 2
}
